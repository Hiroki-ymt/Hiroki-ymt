{
  "nbformat": 4,
  "nbformat_minor": 0,
  "metadata": {
    "colab": {
      "name": "HydroPumpLossCulc.ipynb",
      "provenance": [],
      "authorship_tag": "ABX9TyOOnHOB+uoJY8sKUH5N7hSe"
    },
    "kernelspec": {
      "name": "python3",
      "display_name": "Python 3"
    },
    "language_info": {
      "name": "python"
    }
  },
  "cells": [
    {
      "cell_type": "markdown",
      "metadata": {
        "id": "Ivs861fGlyFj"
      },
      "source": [
        "目的：ポンプ選定のための、配管損失計算を行うプログラム\n",
        "開発工程案\n",
        "1. 損失計算機能の作成；Python\n",
        "2. インターフェイスの作成（条件入力フォームなど）;JavaScript\n",
        "3. 計算結果出力機能の作成（計算結果表、模式図の自動生成）;Python\n",
        "4. 報告書の自動生成　；JavaScript？"
      ]
    },
    {
      "cell_type": "markdown",
      "metadata": {
        "id": "pylMU1r4E7TR"
      },
      "source": [
        "実揚程"
      ]
    },
    {
      "cell_type": "code",
      "metadata": {
        "id": "tU9KLMQZCNlt"
      },
      "source": [
        "#実揚程\n",
        "hs = 7"
      ],
      "execution_count": null,
      "outputs": []
    },
    {
      "cell_type": "markdown",
      "metadata": {
        "id": "OAfEZbtEE-Z1"
      },
      "source": [
        "配管摩擦損失　ヘーゼンウイリアムズ式"
      ]
    },
    {
      "cell_type": "code",
      "metadata": {
        "id": "5P17_vuTD79p"
      },
      "source": [
        "#配管摩擦損失\n",
        "hp = 3"
      ],
      "execution_count": null,
      "outputs": []
    },
    {
      "cell_type": "markdown",
      "metadata": {
        "id": "xBdsfnk1FAJd"
      },
      "source": [
        "曲がり、レジューサによる損失"
      ]
    },
    {
      "cell_type": "code",
      "metadata": {
        "id": "PDAm1nN-EWyT"
      },
      "source": [
        "#曲がり、レジューサによる損失\n",
        "he = 5"
      ],
      "execution_count": null,
      "outputs": []
    },
    {
      "cell_type": "markdown",
      "metadata": {
        "id": "R8n_Hrt-APKS"
      },
      "source": [
        "各種損失水頭の合計演算"
      ]
    },
    {
      "cell_type": "code",
      "metadata": {
        "colab": {
          "base_uri": "https://localhost:8080/"
        },
        "id": "8MecZwy5AToZ",
        "outputId": "16019eb7-da4c-416d-a677-7e9524f7d324"
      },
      "source": [
        "#合計損失\n",
        "h = hs + hp + he\n",
        "\n",
        "#損失計算の余裕率\n",
        "eth = 0.1\n",
        "\n",
        "hc = h*(1 + eth)\n",
        "\n",
        "print(hc)"
      ],
      "execution_count": null,
      "outputs": [
        {
          "output_type": "stream",
          "name": "stdout",
          "text": [
            "16.5\n"
          ]
        }
      ]
    }
  ]
}