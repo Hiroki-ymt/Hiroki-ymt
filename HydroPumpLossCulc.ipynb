{
  "nbformat": 4,
  "nbformat_minor": 0,
  "metadata": {
    "colab": {
      "name": "HydroPumpLossCulc.ipynb",
      "provenance": [],
      "authorship_tag": "ABX9TyO8iQx5NqGQtLpTNTZnMMqX",
      "include_colab_link": true
    },
    "kernelspec": {
      "name": "python3",
      "display_name": "Python 3"
    },
    "language_info": {
      "name": "python"
    }
  },
  "cells": [
    {
      "cell_type": "markdown",
      "metadata": {
        "id": "view-in-github",
        "colab_type": "text"
      },
      "source": [
        "<a href=\"https://colab.research.google.com/github/Hiroki-ymt/Hiroki-ymt/blob/main/HydroPumpLossCulc.ipynb\" target=\"_parent\"><img src=\"https://colab.research.google.com/assets/colab-badge.svg\" alt=\"Open In Colab\"/></a>"
      ]
    },
    {
      "cell_type": "markdown",
      "metadata": {
        "id": "Ivs861fGlyFj"
      },
      "source": [
        "目的：ポンプ選定のための、配管損失計算を行うプログラム\n",
        "開発工程案\n",
        "1. 損失計算機能の作成；Python\n",
        "2. インターフェイスの作成（条件入力フォームなど）;JavaScript\n",
        "3. 計算結果出力機能の作成（計算結果表、模式図の自動生成）;Python\n",
        "4. 報告書の自動生成　；JavaScript？"
      ]
    },
    {
      "cell_type": "markdown",
      "metadata": {
        "id": "sByt9LZYbhqJ"
      },
      "source": [
        "計算条件入力"
      ]
    },
    {
      "cell_type": "code",
      "metadata": {
        "id": "CIXDuTf8bdRi"
      },
      "source": [
        "#流量(L/min)\n",
        "Q = 10\n",
        "\n",
        "#配管内径(m)\n",
        "D = 0.2\n",
        "\n",
        "#配管長(m)\n",
        "L = 10\n",
        "\n",
        "#配管損失係数\n",
        "C = 140\n",
        "\n",
        "#計算上の最低水位と最高配管高さ\n",
        "hmin = 0\n",
        "hmax = 15 "
      ],
      "execution_count": 3,
      "outputs": []
    },
    {
      "cell_type": "markdown",
      "metadata": {
        "id": "pylMU1r4E7TR"
      },
      "source": [
        "実揚程"
      ]
    },
    {
      "cell_type": "code",
      "metadata": {
        "id": "tU9KLMQZCNlt",
        "colab": {
          "base_uri": "https://localhost:8080/"
        },
        "outputId": "3dd42480-c8b3-4a68-cab8-9a1f5aa1d951"
      },
      "source": [
        "#実揚程\n",
        "hs = hmax - hmin\n",
        "\n",
        "print(hs)"
      ],
      "execution_count": 6,
      "outputs": [
        {
          "output_type": "stream",
          "name": "stdout",
          "text": [
            "15\n"
          ]
        }
      ]
    },
    {
      "cell_type": "markdown",
      "metadata": {
        "id": "OAfEZbtEE-Z1"
      },
      "source": [
        "配管摩擦損失　ヘーゼンウイリアムズ式"
      ]
    },
    {
      "cell_type": "code",
      "metadata": {
        "id": "5P17_vuTD79p",
        "colab": {
          "base_uri": "https://localhost:8080/"
        },
        "outputId": "4010f62b-7830-4f39-d7a2-3543680fe6c2"
      },
      "source": [
        "#ヘーゼンウイリアムズの式\n",
        "# hp = 10.666 * (Q/60)^1.85 * C^-1.85 * (L/1000)^-4.87\n",
        "\n",
        "#配管摩擦損失\n",
        "hp = 10.666 * pow((Q/1000/60),1.85) * pow(C,-1.85) * pow((L/1000),-4.87)\n",
        "\n",
        "print(hp)"
      ],
      "execution_count": 9,
      "outputs": [
        {
          "output_type": "stream",
          "name": "stdout",
          "text": [
            "0.6428133684783331\n"
          ]
        }
      ]
    },
    {
      "cell_type": "markdown",
      "metadata": {
        "id": "xBdsfnk1FAJd"
      },
      "source": [
        "曲がり、レジューサによる損失"
      ]
    },
    {
      "cell_type": "code",
      "metadata": {
        "id": "PDAm1nN-EWyT"
      },
      "source": [
        "#曲がり、レジューサによる損失\n",
        "he = 5"
      ],
      "execution_count": 11,
      "outputs": []
    },
    {
      "cell_type": "markdown",
      "metadata": {
        "id": "R8n_Hrt-APKS"
      },
      "source": [
        "各種損失水頭の合計演算"
      ]
    },
    {
      "cell_type": "code",
      "metadata": {
        "colab": {
          "base_uri": "https://localhost:8080/"
        },
        "id": "8MecZwy5AToZ",
        "outputId": "b949681e-2559-4d18-8f53-2cab206af66e"
      },
      "source": [
        "#合計損失\n",
        "h = hs + hp + he\n",
        "\n",
        "#損失計算の余裕率\n",
        "eth = 0.1\n",
        "\n",
        "hc = h*(1 + eth)\n",
        "\n",
        "print(hc)"
      ],
      "execution_count": 12,
      "outputs": [
        {
          "output_type": "stream",
          "name": "stdout",
          "text": [
            "22.707094705326167\n"
          ]
        }
      ]
    }
  ]
}