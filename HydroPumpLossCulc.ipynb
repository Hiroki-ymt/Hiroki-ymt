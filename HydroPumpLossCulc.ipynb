{
  "nbformat": 4,
  "nbformat_minor": 0,
  "metadata": {
    "colab": {
      "name": "HydroPumpLossCulc.ipynb",
      "provenance": [],
      "authorship_tag": "ABX9TyMNrltzyo+rXrhqU1DLXryg",
      "include_colab_link": true
    },
    "kernelspec": {
      "name": "python3",
      "display_name": "Python 3"
    },
    "language_info": {
      "name": "python"
    }
  },
  "cells": [
    {
      "cell_type": "markdown",
      "metadata": {
        "id": "view-in-github",
        "colab_type": "text"
      },
      "source": [
        "<a href=\"https://colab.research.google.com/github/Hiroki-ymt/Hiroki-ymt/blob/main/HydroPumpLossCulc.ipynb\" target=\"_parent\"><img src=\"https://colab.research.google.com/assets/colab-badge.svg\" alt=\"Open In Colab\"/></a>"
      ]
    },
    {
      "cell_type": "markdown",
      "metadata": {
        "id": "Ivs861fGlyFj"
      },
      "source": [
        "目的：ポンプ選定のための、配管損失計算を行うプログラム\n",
        "開発工程案\n",
        "1. 損失計算機能の作成；Python\n",
        "2. インターフェイスの作成（条件入力フォームなど）;JavaScript\n",
        "3. 計算結果出力機能の作成（計算結果表、模式図の自動生成）;Python\n",
        "4. 報告書の自動生成　；JavaScript？"
      ]
    },
    {
      "cell_type": "markdown",
      "metadata": {
        "id": "v-651_AUlo4s"
      },
      "source": [
        "スプレッドシート読込み"
      ]
    },
    {
      "cell_type": "code",
      "metadata": {
        "id": "28AESUCEltGX"
      },
      "source": [
        "!pip install --upgrade -q gspread"
      ],
      "execution_count": 4,
      "outputs": []
    },
    {
      "cell_type": "code",
      "metadata": {
        "id": "3k0usQG9l34P"
      },
      "source": [
        "from google.colab import auth\n",
        "from oauth2client.client import GoogleCredentials\n",
        "import gspread\n",
        "\n",
        "auth.authenticate_user()\n",
        "gc = gspread.authorize(GoogleCredentials.get_application_default())"
      ],
      "execution_count": 5,
      "outputs": []
    },
    {
      "cell_type": "code",
      "metadata": {
        "colab": {
          "base_uri": "https://localhost:8080/"
        },
        "id": "eS01NDe3mjVY",
        "outputId": "2bfd588d-658d-4aac-890c-b970fb2b4940"
      },
      "source": [
        "wkb = gc.open('HydroPumpLossCnt')\n",
        "#シートを読み込む\n",
        "wks = wkb.worksheet(\"Controls\")\n",
        "input_data = wks.get_all_records()\n",
        "\n",
        "print(input_data)"
      ],
      "execution_count": 10,
      "outputs": [
        {
          "output_type": "stream",
          "name": "stdout",
          "text": [
            "[{'Symbols': 'Q', 'Controls': 10, 'Dimensions': '(L/min)', 'Tytles': '流量'}, {'Symbols': 'D', 'Controls': 250, 'Dimensions': '(mm)', 'Tytles': '配管内径'}, {'Symbols': 'L', 'Controls': 10, 'Dimensions': '(m)', 'Tytles': '配管長'}, {'Symbols': 'C', 'Controls': 140, 'Dimensions': '(-)', 'Tytles': '配管損失係数'}, {'Symbols': 'hmin', 'Controls': 0, 'Dimensions': '(m)', 'Tytles': '最低水位'}, {'Symbols': 'hmax', 'Controls': 15, 'Dimensions': '(m)', 'Tytles': '最高管高さ'}]\n"
          ]
        }
      ]
    },
    {
      "cell_type": "markdown",
      "metadata": {
        "id": "sByt9LZYbhqJ"
      },
      "source": [
        "計算条件入力"
      ]
    },
    {
      "cell_type": "code",
      "metadata": {
        "id": "CIXDuTf8bdRi",
        "colab": {
          "base_uri": "https://localhost:8080/"
        },
        "outputId": "02c30aa6-36e4-4528-dd7a-dbcf3b30a37e"
      },
      "source": [
        "#流量(L/min)\n",
        "Q = float(wks.acell('B2').value)\n",
        "\n",
        "#配管内径(mm)\n",
        "D0 = float(wks.acell('B3').value)\n",
        "D = D0/1000\n",
        "\n",
        "#配管長(m)\n",
        "L = float(wks.acell('B4').value)\n",
        "\n",
        "#配管損失係数\n",
        "C = float(wks.acell('B5').value)\n",
        "\n",
        "#計算上の最低水位と最高配管高さ\n",
        "hmin = float(wks.acell('B6').value)\n",
        "hmax = float(wks.acell('B7').value)\n",
        "\n",
        "print(Q, D, L, C, hmin, hmax)"
      ],
      "execution_count": 29,
      "outputs": [
        {
          "output_type": "stream",
          "name": "stdout",
          "text": [
            "10.0 0.25 10.0 140.0 0.0 15.0\n"
          ]
        }
      ]
    },
    {
      "cell_type": "markdown",
      "metadata": {
        "id": "pylMU1r4E7TR"
      },
      "source": [
        "実揚程"
      ]
    },
    {
      "cell_type": "code",
      "metadata": {
        "id": "tU9KLMQZCNlt",
        "colab": {
          "base_uri": "https://localhost:8080/"
        },
        "outputId": "7e9e4b0f-d865-4f81-d7c9-09666c19ee75"
      },
      "source": [
        "#実揚程\n",
        "hs = hmax - hmin\n",
        "\n",
        "print(hs)"
      ],
      "execution_count": 30,
      "outputs": [
        {
          "output_type": "stream",
          "name": "stdout",
          "text": [
            "15.0\n"
          ]
        }
      ]
    },
    {
      "cell_type": "markdown",
      "metadata": {
        "id": "OAfEZbtEE-Z1"
      },
      "source": [
        "配管摩擦損失　ヘーゼンウイリアムズ式"
      ]
    },
    {
      "cell_type": "code",
      "metadata": {
        "id": "5P17_vuTD79p",
        "colab": {
          "base_uri": "https://localhost:8080/"
        },
        "outputId": "2b548bf3-031e-414c-ff8b-ead335ec0c0a"
      },
      "source": [
        "#ヘーゼンウイリアムズの式\n",
        "# hp = 10.666 * (Q/60)^1.85 * C^-1.85 * (L/1000)^-4.87\n",
        "\n",
        "#配管摩擦損失\n",
        "hp = 10.666 * pow((Q/1000/60),1.85) * pow(C,-1.85) * pow((L/1000),-4.87)\n",
        "\n",
        "print(hp)"
      ],
      "execution_count": 31,
      "outputs": [
        {
          "output_type": "stream",
          "name": "stdout",
          "text": [
            "0.6428133684783331\n"
          ]
        }
      ]
    },
    {
      "cell_type": "markdown",
      "metadata": {
        "id": "xBdsfnk1FAJd"
      },
      "source": [
        "曲がり、レジューサによる損失"
      ]
    },
    {
      "cell_type": "code",
      "metadata": {
        "id": "PDAm1nN-EWyT"
      },
      "source": [
        "#曲がり、レジューサによる損失\n",
        "he = 5"
      ],
      "execution_count": 32,
      "outputs": []
    },
    {
      "cell_type": "markdown",
      "metadata": {
        "id": "R8n_Hrt-APKS"
      },
      "source": [
        "各種損失水頭の合計演算"
      ]
    },
    {
      "cell_type": "code",
      "metadata": {
        "colab": {
          "base_uri": "https://localhost:8080/"
        },
        "id": "8MecZwy5AToZ",
        "outputId": "f8ec2be3-cfe2-412e-a899-b26ee68ee1b9"
      },
      "source": [
        "#合計損失\n",
        "h = hs + hp + he\n",
        "\n",
        "#損失計算の余裕率\n",
        "eth = 0.1\n",
        "\n",
        "hc = h*(1 + eth)\n",
        "\n",
        "print(hc)"
      ],
      "execution_count": 33,
      "outputs": [
        {
          "output_type": "stream",
          "name": "stdout",
          "text": [
            "22.707094705326167\n"
          ]
        }
      ]
    }
  ]
}